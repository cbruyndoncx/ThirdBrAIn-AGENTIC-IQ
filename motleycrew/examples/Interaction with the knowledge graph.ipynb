{
 "cells": [
  {
   "cell_type": "markdown",
   "id": "332833da-f31a-4723-aa28-bc0788cd1f64",
   "metadata": {},
   "source": [
    "# Interacting with the knowledge graph"
   ]
  },
  {
   "cell_type": "markdown",
   "id": "7063562d-d7a3-40ca-b96c-c32bb5167a0a",
   "metadata": {},
   "source": [
    "Knowledge graph plays a key role in motleycrew. It is used to store the state that is used to dispatch workers, plus any other state you wish to store and query as part of your application.\n",
    "\n",
    "We are currently using [Kùzu](https://github.com/kuzudb) as the knowledge graph backend, because it's embeddable, supports openCypher and is available under the MIT license, and also has [LlamaIndex integration](https://docs.llamaindex.ai/en/stable/api_reference/storage/graph_stores/kuzu/); please let us know if you would like to use another backend.\n",
    "\n",
    "To make interaction with Kùzu from Python more natural, we have written a thin OGM (Object-graph mapping) layer on top of Kùzu; it also allows you to do an arbitrary Cypher query to Kùzu if its abstractions don't fit your purpose."
   ]
  },
  {
   "cell_type": "markdown",
   "id": "db1ff68b",
   "metadata": {},
   "source": [
    "First, let's create a database and a graph store."
   ]
  },
  {
   "cell_type": "code",
   "execution_count": 1,
   "id": "ee171d02-d671-4a82-8e7f-6e03ef6e0d4e",
   "metadata": {},
   "outputs": [],
   "source": [
    "import kuzu\n",
    "from motleycrew.storage import MotleyKuzuGraphStore\n",
    "\n",
    "database = kuzu.Database(\"example_db\")\n",
    "graph_store = MotleyKuzuGraphStore(database)"
   ]
  },
  {
   "cell_type": "markdown",
   "id": "63ec394b",
   "metadata": {},
   "source": [
    "If you are using motleycrew, chances are you have a MotleyCrew instance, which already has a graph store. It can be accessed via `graph_store` attribute.  \n",
    "Tasks registered with a crew also have a `graph_store` attribute, which links to the one in the crew.\n",
    "\n",
    "Graph nodes are represented as Pydantic classes inheriting from MotleyGraphNode."
   ]
  },
  {
   "cell_type": "code",
   "execution_count": 2,
   "id": "8651a1b4",
   "metadata": {},
   "outputs": [],
   "source": [
    "from typing import Optional\n",
    "from motleycrew.storage import MotleyGraphNode\n",
    "\n",
    "class Person(MotleyGraphNode):\n",
    "    name: str\n",
    "    age: int\n",
    "    occupation: Optional[str] = None"
   ]
  },
  {
   "cell_type": "markdown",
   "id": "fda19071",
   "metadata": {},
   "source": [
    "Let's insert 2 nodes into the graph. "
   ]
  },
  {
   "cell_type": "code",
   "execution_count": 3,
   "id": "619faa1b",
   "metadata": {},
   "outputs": [
    {
     "data": {
      "text/plain": [
       "True"
      ]
     },
     "execution_count": 3,
     "metadata": {},
     "output_type": "execute_result"
    }
   ],
   "source": [
    "john = Person(name=\"John\", age=25, occupation=\"Data Scientist\")\n",
    "jane = Person(name=\"Jane\", age=30, occupation=\"Software Engineer\")\n",
    "\n",
    "graph_store.insert_node(john)\n",
    "graph_store.insert_node(jane)\n",
    "\n",
    "john.is_inserted"
   ]
  },
  {
   "cell_type": "markdown",
   "id": "f46fa021",
   "metadata": {},
   "source": [
    "When a node is created and inserted into the graph, it becomes tied to the graph store. This means that any changes made to the node object will be reflected in the graph store."
   ]
  },
  {
   "cell_type": "code",
   "execution_count": 4,
   "id": "de30422e",
   "metadata": {},
   "outputs": [],
   "source": [
    "john.age += 1  # this change is instantly saved to the database"
   ]
  },
  {
   "cell_type": "markdown",
   "id": "d1eff851",
   "metadata": {},
   "source": [
    "Now let's create a relation indicating Jane is John's manager."
   ]
  },
  {
   "cell_type": "code",
   "execution_count": 5,
   "id": "6b491903",
   "metadata": {},
   "outputs": [],
   "source": [
    "graph_store.create_relation(from_node=jane, to_node=john, label=\"manages\")"
   ]
  },
  {
   "cell_type": "markdown",
   "id": "1d2de2bf",
   "metadata": {},
   "source": [
    "The biggest advantage of using the graph store is the ability to query the data in a more flexible way using Cypher query language.  \n",
    "You can find a great manual on Cypher in Kuzu docs: https://docs.kuzudb.com/cypher/.\n",
    "\n",
    "Let's find all people that are managed by Jane."
   ]
  },
  {
   "cell_type": "code",
   "execution_count": 6,
   "id": "c76696bf",
   "metadata": {},
   "outputs": [
    {
     "data": {
      "text/plain": [
       "[[{'_id': {'offset': 1, 'table': 2},\n",
       "   '_label': 'Person',\n",
       "   'id': 1,\n",
       "   'name': 'John',\n",
       "   'age': 26,\n",
       "   'occupation': 'Data Scientist'}]]"
      ]
     },
     "execution_count": 6,
     "metadata": {},
     "output_type": "execute_result"
    }
   ],
   "source": [
    "graph_store.run_cypher_query(\"MATCH (m:Person)-[:manages]->(p:Person) WHERE m.name = 'Jane' RETURN p\")"
   ]
  },
  {
   "cell_type": "markdown",
   "id": "5f2cab92",
   "metadata": {},
   "source": [
    "Often you would like to get the query results as objects. You can do this by providing a `container` argument to `run_cypher_query`."
   ]
  },
  {
   "cell_type": "code",
   "execution_count": 7,
   "id": "86841946",
   "metadata": {},
   "outputs": [
    {
     "data": {
      "text/plain": [
       "[Person(name='John', age=26, occupation='Data Scientist')]"
      ]
     },
     "execution_count": 7,
     "metadata": {},
     "output_type": "execute_result"
    }
   ],
   "source": [
    "graph_store.run_cypher_query(\"MATCH (m:Person)-[:manages]->(p:Person) WHERE m.name = 'Jane' RETURN p\", container=Person)"
   ]
  },
  {
   "cell_type": "markdown",
   "id": "41957984",
   "metadata": {},
   "source": [
    "In Cypher, an object kind is represented as a label. You can see them in the query after the `:`s. By default, motleycrew uses the class name as the label. You can override this behavior by setting the `__label__` attribute in the node class.  \n",
    "\n",
    "You can get the label by calling the `get_label` method on either the node class or an instance of it. The inserted nodes also have an `id` attribute that identifies them among the nodes of the same label.  \n",
    "\n",
    "So, in a real application, our query would probably look like this:"
   ]
  },
  {
   "cell_type": "code",
   "execution_count": 8,
   "id": "2dde9693",
   "metadata": {},
   "outputs": [
    {
     "data": {
      "text/plain": [
       "[Person(name='John', age=26, occupation='Data Scientist')]"
      ]
     },
     "execution_count": 8,
     "metadata": {},
     "output_type": "execute_result"
    }
   ],
   "source": [
    "label = Person.get_label()  # john.get_label() would also work\n",
    "query = f\"MATCH (m:{label})-[:manages]->(p:{label}) WHERE m.id = $manager_id RETURN p\"\n",
    "\n",
    "graph_store.run_cypher_query(query, parameters={\"manager_id\": jane.id}, container=Person)"
   ]
  },
  {
   "cell_type": "markdown",
   "id": "73d85c93",
   "metadata": {},
   "source": [
    "The graph store has an `upsert_triplet` method that is useful for creating nodes and relations in one go.  \n",
    "\n",
    "Let's create a new subordinate for Jane."
   ]
  },
  {
   "cell_type": "code",
   "execution_count": 9,
   "id": "8be29782",
   "metadata": {},
   "outputs": [
    {
     "data": {
      "text/plain": [
       "[Person(name='John', age=26, occupation='Data Scientist'),\n",
       " Person(name='Joe', age=35, occupation='Software Engineer')]"
      ]
     },
     "execution_count": 9,
     "metadata": {},
     "output_type": "execute_result"
    }
   ],
   "source": [
    "joe = Person(name=\"Joe\", age=35, occupation=\"Software Engineer\")\n",
    "graph_store.upsert_triplet(from_node=jane, to_node=joe, label=\"manages\")\n",
    "\n",
    "graph_store.run_cypher_query(query, parameters={\"manager_id\": jane.id}, container=Person)"
   ]
  },
  {
   "cell_type": "markdown",
   "id": "9d336577",
   "metadata": {},
   "source": [
    "`check_node_exists` and `check_relation_exists` methods can be used to check if a node or a relation exists in the graph store."
   ]
  },
  {
   "cell_type": "code",
   "execution_count": 10,
   "id": "42d4841c",
   "metadata": {},
   "outputs": [
    {
     "name": "stdout",
     "output_type": "stream",
     "text": [
      "True\n",
      "True\n",
      "True\n",
      "False\n"
     ]
    }
   ],
   "source": [
    "print(graph_store.check_node_exists(john))\n",
    "print(graph_store.check_relation_exists(jane, john))\n",
    "print(graph_store.check_relation_exists(jane, john, \"manages\"))\n",
    "print(graph_store.check_relation_exists(john, jane))"
   ]
  },
  {
   "cell_type": "markdown",
   "id": "d1f7caa6",
   "metadata": {},
   "source": [
    "You can also use the `get_node_by_class_and_id` method for retrieving nodes."
   ]
  },
  {
   "cell_type": "code",
   "execution_count": 11,
   "id": "ac76aca8",
   "metadata": {},
   "outputs": [
    {
     "data": {
      "text/plain": [
       "Person(name='John', age=26, occupation='Data Scientist')"
      ]
     },
     "execution_count": 11,
     "metadata": {},
     "output_type": "execute_result"
    }
   ],
   "source": [
    "graph_store.get_node_by_class_and_id(Person, john.id)"
   ]
  },
  {
   "cell_type": "markdown",
   "id": "5478bc29",
   "metadata": {},
   "source": [
    "Finally, let's delete a node. This will also delete all relations that node is a part of."
   ]
  },
  {
   "cell_type": "code",
   "execution_count": 12,
   "id": "ceb41a45",
   "metadata": {},
   "outputs": [
    {
     "data": {
      "text/plain": [
       "False"
      ]
     },
     "execution_count": 12,
     "metadata": {},
     "output_type": "execute_result"
    }
   ],
   "source": [
    "graph_store.delete_node(jane)\n",
    "graph_store.check_node_exists(jane)"
   ]
  },
  {
   "cell_type": "markdown",
   "id": "e400666a",
   "metadata": {},
   "source": [
    "Kùzu provides a convinient frontend called [Kùzu Explorer](https://docs.kuzudb.com/visualization/) that is useful for debugging and exploring the graph store.  \n",
    "\n",
    "The simplest way to run it is using the following command:\n",
    "\n",
    "```bash\n",
    "docker run -p 8000:8000  -v /absolute/path/to/the/db:/database --rm kuzudb/explorer:latest\n",
    "```\n",
    "\n",
    "You can then access it at http://localhost:8000.  \n",
    "To display all nodes and relations, you can run the following query:\n",
    "\n",
    "```cypher\n",
    "MATCH (A)-[r]->(B) RETURN *;\n",
    "```"
   ]
  },
  {
   "cell_type": "code",
   "execution_count": 13,
   "id": "cae510af",
   "metadata": {},
   "outputs": [
    {
     "name": "stdout",
     "output_type": "stream",
     "text": [
      "docker run -p 8000:8000  -v /Users/whimo/motleycrew/examples/example_db:/database --rm kuzudb/explorer:latest\n"
     ]
    }
   ],
   "source": [
    "print(f\"docker run -p 8000:8000  -v {graph_store.database_path}:/database --rm kuzudb/explorer:latest\")"
   ]
  }
 ],
 "metadata": {
  "kernelspec": {
   "display_name": "Python 3 (ipykernel)",
   "language": "python",
   "name": "python3"
  },
  "language_info": {
   "codemirror_mode": {
    "name": "ipython",
    "version": 3
   },
   "file_extension": ".py",
   "mimetype": "text/x-python",
   "name": "python",
   "nbconvert_exporter": "python",
   "pygments_lexer": "ipython3",
   "version": "3.12.2"
  }
 },
 "nbformat": 4,
 "nbformat_minor": 5
}
