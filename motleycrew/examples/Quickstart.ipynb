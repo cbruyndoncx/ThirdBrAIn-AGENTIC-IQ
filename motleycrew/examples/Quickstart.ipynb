{
 "cells": [
  {
   "cell_type": "markdown",
   "id": "3f99f61a-c89a-4640-a9bc-9578c59741f9",
   "metadata": {},
   "source": [
    "# Quickstart"
   ]
  },
  {
   "cell_type": "markdown",
   "id": "049a504a-9a8b-43cc-be11-29f95383cb7c",
   "metadata": {},
   "source": [
    "This is a brief introduction to motleycrew. \n",
    "\n",
    "For a working example of agents, tools, crew, and SimpleTask, check out the [blog with images](examples/blog_with_images.html).\n",
    "\n",
    "For a working example of custom tasks that fully utilize the knowledge graph backend, check out the [research agent](examples/research_agent.html).\n"
   ]
  },
  {
   "cell_type": "markdown",
   "id": "5d10822b-b587-4428-95dd-b2f6860e1e28",
   "metadata": {},
   "source": [
    "## Agents and tools\n",
    "\n",
    "Motleycrew provides thin wrappers for all the common agent frameworks: Langchain, LlamaIndex, CrewAI, and Autogen (please let us know if you want any others added!).\n",
    "It also provides thin wrappers for Langchain and LlamaIndex tools, allowing you to use any of these tools with any of these agents.\n",
    "\n",
    "MotleyCrew also supports **delegation**: you can simply give any agent as a tool to any other agent. \n",
    "\n",
    "All the wrappers for tools and agents implement the Runnable interface, so you can use them as-is in LCEL and Langgraph code.\n",
    "\n",
    "\n",
    "### Output handlers (aka return_direct)\n",
    "\n",
    "An **output handler** is a tool that the agent uses for submitting the final output instead of returning it raw. Besides defining a schema for the output, the output handler enables you to implement any validation logic inside it, including agent-based. If your agent returns invalid output, you can raise an exception that will be returned to the agent so that it can retry.\n",
    "\n",
    "Essentially, an output handler is a tool that returns its output directly to the user, thus finishing the agent execution. This behavior is enabled by setting the `return_direct=True` argument for the tool. Unlike other frameworks, MotleyCrew allows to have multiple output handlers for one agent, from which the agent can choose one.\n",
    "\n",
    "MotleyCrew also supports **forced output handlers**. This means that the agent will only be able to return output via an output handler, and not directly. This is useful if you want to ensure that the agent only returns output in a specific format.\n",
    "\n",
    "See our usage examples with a [simple validator](examples/validating_agent_output.html) and an [advanced output handler with multiple fields](examples/advanced_output_handling.html).\n",
    "\n",
    "\n",
    "### MotleyTool\n",
    "\n",
    "A tool in motleycrew, like in other frameworks, is basically a function that takes an input and returns an output.\n",
    "It is called a tool in the sense that it is usually used by an agent to perform a specific action.\n",
    "Besides the function itself, a tool also contains an input schema which describes the input format to the LLM.\n",
    "\n",
    "`MotleyTool` is the base class for all tools in motleycrew. It is a subclass of `Runnable` that adds some additional features to the tool, along with necessary adapters and converters.\n",
    "\n",
    "If you pass a tool from a supported framework (currently Langchain, LlamaIndex, and CrewAI) to a motleycrew agent, it will be automatically converted. If you want to have control over this, e.g. to customize tool params, you can do it manually.\n",
    "\n",
    "```python\n",
    "motley_tool = MotleyTool.from_supported_tool(my_tool)\n",
    "```\n",
    "\n",
    "It is also possible to define a custom tool using the `MotleyTool` base class, overriding the `run` method. This is especially useful if you want to access context such as the caller agent or its last input, which can be useful for validation.\n",
    "\n",
    "```python\n",
    "class MyTool(MotleyTool):\n",
    "    def run(self, some_input: str) -> str:\n",
    "        return f\"Received {some_input} from agent {self.agent} with last input {self.agent_input}\"\n",
    "```\n",
    "\n",
    "MotleyTool can reflect exceptions that are raised inside it back to the agent, which can then retry the tool call. You can pass a list of exception classes to the `exceptions_to_reflect` argument in the constructor (or even pass the `Exception` class to reflect everything)."
   ]
  },
  {
   "cell_type": "markdown",
   "id": "762b817e-26e9-4073-8312-f9000ce0e10a",
   "metadata": {},
   "source": [
    "## Crew and tasks\n",
    "\n",
    "The other two key concepts in motleycrew are crew and tasks. The crew is the orchestrator for tasks, and must be passed to all tasks at creation; tasks can be connected into a DAG using the `>>` operator, for example `TaskA >> TaskB`. This means that `TaskB` will not be started before `TaskA` is complete, and will be given `TaskA`'s output.\n",
    "\n",
    "Once all tasks and their relationships have been set up, it all can be run via `crew.run()`, which returns a list of the executed `TaskUnits` (see below for details)."
   ]
  },
  {
   "cell_type": "markdown",
   "id": "1dc32889-56bb-4d6c-a312-55b0a3fd1117",
   "metadata": {},
   "source": [
    "### SimpleTask\n",
    "`SimpleTask` is a basic implementation of the `Task` API. It only requires a crew, a description, and an agent. When it's executed, the description is combined with the output of any upstream tasks and passed on to the agent, and the agent's output is the tasks's output. "
   ]
  },
  {
   "cell_type": "markdown",
   "id": "10d8f65e-6801-44e3-8f32-2bb33f076005",
   "metadata": {},
   "source": [
    "For a working illustration of all the concepts so far, see the [blog with images](examples/blog_with_images.html) example."
   ]
  },
  {
   "cell_type": "markdown",
   "id": "85244209-0d9e-4a8f-95a4-89f09947f510",
   "metadata": {},
   "source": [
    "## Knowledge graph backend and custom tasks"
   ]
  },
  {
   "cell_type": "markdown",
   "id": "5d8f27d7-15b9-4dbd-9f88-0f62c24eb57a",
   "metadata": {},
   "source": [
    "The functionality so far is convenient, allowing us to mix all the popular agents and tools, but otherwise fairly vanilla, little different from, for example, the CrewAI semantics. Fortunately, the above introduction just scratched the surface of the motleycrew `Task` API.\n",
    "\n",
    "In motleycrew, a task is basically a set of rules describing how to perform actions. It provides a **worker** (e.g. an agent) and sets of input data called **task units**. This allows defining workflows of any complexity concisely using crew semantics. For a deeper dive, check out the page on [key concepts](key_concepts.html).\n",
    "\n",
    "The crew queries and dispatches available task units in a loop, managing task states using an embedded [knowledge graph](knowledge_graph.html).\n",
    "\n",
    "This dispatch method easily supports different execution backends, from synchronous to asyncio, threaded, etc.\n"
   ]
  },
  {
   "cell_type": "markdown",
   "id": "ff9ea420-220a-4b38-a8e4-12e44f9386d5",
   "metadata": {},
   "source": [
    "### Example: Recursive question-answering in the research agent\n",
    "\n",
    "Motleycrew architecture described above easily allows to generate task units on the fly, if needed. An example of the power of this approach is the [research agent](examples/research_agent.html) that dynamically generates new questions based on retrieved context for previous questions.  \n",
    "This example also shows how workers can collaborate via the shared knowledge graph, storing all necessary data in a way that is natural to the task.\n",
    "\n"
   ]
  },
  {
   "cell_type": "markdown",
   "id": "2cafa282-2111-4051-bf0f-7046048648bd",
   "metadata": {},
   "source": [
    "  "
   ]
  }
 ],
 "metadata": {
  "kernelspec": {
   "display_name": "Python 3 (ipykernel)",
   "language": "python",
   "name": "python3"
  },
  "language_info": {
   "codemirror_mode": {
    "name": "ipython",
    "version": 3
   },
   "file_extension": ".py",
   "mimetype": "text/x-python",
   "name": "python",
   "nbconvert_exporter": "python",
   "pygments_lexer": "ipython3",
   "version": "3.11.5"
  }
 },
 "nbformat": 4,
 "nbformat_minor": 5
}
