{
 "cells": [
  {
   "cell_type": "code",
   "execution_count": null,
   "metadata": {},
   "outputs": [],
   "source": [
    "import yaml\n",
    "import pdfkit\n",
    "from pathlib import Path\n",
    "from openssa.core.agent.agent import Agent\n",
    "from openssa.core.resource.file import FileResource\n",
    "from IPython.display import display, Markdown\n",
    "from semikong_lm import SemiKongLM\n",
    "from openssa.core.programming.hierarchical.planner import HTPlanner\n",
    "from openssa.core.program_space import ProgramSpace"
   ]
  },
  {
   "cell_type": "markdown",
   "metadata": {},
   "source": [
    "Answering questions about networking chips with OpenSSA.\n"
   ]
  },
  {
   "cell_type": "code",
   "execution_count": null,
   "metadata": {},
   "outputs": [],
   "source": [
    "DATA_DIR = \"./data\"\n",
    "with open(\"reference.yml\") as f:\n",
    "    reference = yaml.safe_load(f)\n",
    "    QUESTIONS = reference[\"questions\"]\n",
    "    DOCS = reference[\"docs\"]"
   ]
  },
  {
   "cell_type": "markdown",
   "metadata": {},
   "source": [
    "Import docs. Get the ones that failed by hand. You could also manually get the docs.\n"
   ]
  },
  {
   "cell_type": "code",
   "execution_count": null,
   "metadata": {},
   "outputs": [],
   "source": [
    "# Path(DATA_DIR).mkdir(exist_ok=True)\n",
    "# for i, link in enumerate(DOCS):\n",
    "#     try:\n",
    "#         pdfkit.from_url(link, f\"{DATA_DIR}/doc_{i}.pdf\")\n",
    "#     except Exception as e:  # noqa: PERF203\n",
    "#         print(f\"Failed to download {link}: {e}\")"
   ]
  },
  {
   "cell_type": "markdown",
   "metadata": {},
   "source": [
    "Initialise SemiKong LM in the programmer and executor.\n"
   ]
  },
  {
   "cell_type": "markdown",
   "metadata": {},
   "source": [
    "Create agent with SemiKong base model for both programmer and executor.\n"
   ]
  },
  {
   "cell_type": "code",
   "execution_count": null,
   "metadata": {},
   "outputs": [],
   "source": [
    "agent = Agent(\n",
    "    resources={FileResource(path=DATA_DIR)},\n",
    "    programmer=HTPlanner(lm=SemiKongLM.from_defaults()),\n",
    "    program_space=ProgramSpace(lm=SemiKongLM.from_defaults()),\n",
    ")"
   ]
  },
  {
   "cell_type": "markdown",
   "metadata": {},
   "source": [
    "Ask it a question. (The first run it needs to build the index.)\n"
   ]
  },
  {
   "cell_type": "code",
   "execution_count": null,
   "metadata": {},
   "outputs": [],
   "source": [
    "question = QUESTIONS[5]\n",
    "print(question)"
   ]
  },
  {
   "cell_type": "code",
   "execution_count": null,
   "metadata": {},
   "outputs": [],
   "source": [
    "answer = agent.solve(question)\n",
    "display(Markdown(answer))"
   ]
  },
  {
   "cell_type": "markdown",
   "metadata": {},
   "source": [
    "Compare its performance to generic LLM.\n",
    "\n",
    "You may notice generic LLMs will:\n",
    "\n",
    "1. answer questions in a more general fashion,\n",
    "2. list off multiple possible answers, or\n",
    "3. not synthesize separate pieces of knowledge.\n"
   ]
  },
  {
   "cell_type": "code",
   "execution_count": null,
   "metadata": {},
   "outputs": [],
   "source": [
    "import os\n",
    "from openai import OpenAI\n",
    "\n",
    "client = OpenAI(api_key=os.environ.get(\"OPENAI_API_KEY\"))\n",
    "\n",
    "chat_completion = client.chat.completions.create(\n",
    "    messages=[{\"role\": \"user\", \"content\": question}],\n",
    "    model=\"gpt-4o\",\n",
    ")\n",
    "\n",
    "display(Markdown(chat_completion.choices[0].message.content))"
   ]
  }
 ],
 "metadata": {
  "kernelspec": {
   "display_name": ".venv",
   "language": "python",
   "name": "python3"
  },
  "language_info": {
   "codemirror_mode": {
    "name": "ipython",
    "version": 3
   },
   "file_extension": ".py",
   "mimetype": "text/x-python",
   "name": "python",
   "nbconvert_exporter": "python",
   "pygments_lexer": "ipython3",
   "version": "3.12.4"
  }
 },
 "nbformat": 4,
 "nbformat_minor": 2
}
